{
 "cells": [
  {
   "attachments": {},
   "cell_type": "markdown",
   "metadata": {},
   "source": [
    "# Averaged Artifact Substraction with EEG Data\n",
    "## First step prepare Jupyter Notebook"
   ]
  },
  {
   "cell_type": "code",
   "execution_count": null,
   "metadata": {},
   "outputs": [],
   "source": [
    "import os\n",
    "from facet.facet import facet\n",
    "from loguru import logger\n",
    "import sys\n",
    "\n",
    "\n",
    "eegDataSet_filepath = \"../datasets/NiazyFMRI.edf\"\n",
    "motiondata_moosmann_filepath = \"../datasets/headmotiondata_209s.tsv\"\n",
    "export_bids_path = \"./bids_dir\"\n",
    "\n",
    "# logging configuration\n",
    "logger.remove()\n",
    "logger.add(sys.stderr, level=\"INFO\")\n",
    "logger.add(\"facet.log\", level=\"DEBUG\")\n",
    "\n",
    "# defining important parameters\n",
    "window_size = 30\n",
    "upsampling_factor = 10\n",
    "artifact_to_trigger_offset_seconds = -0.005\n",
    "relative_window_position = -0.5\n",
    "moosmann_motion_threshold = 0.8\n",
    "event_id_description_pairs = {\"trigger\": 1}\n",
    "regex_trigger_annotation_filter = (\n",
    "    r\"\\b1\\b\"  # Annotations with the description 'trigger' are considered as triggers\n",
    ")\n",
    "regex_trigger_event_filter = (\n",
    "    r\"\\b1\\b\"  # Events with the value 1 are considered as triggers\n",
    ")\n",
    "unwanted_bad_channels = [\n",
    "    \"EKG\",\n",
    "    \"EMG\",\n",
    "    \"EOG\",\n",
    "    \"ECG\",\n",
    "]  # Channels with these names are considered as bad channels and not considered in the processing\n",
    "evaluation_measures = [\"SNR\", \"RMS\", \"RMS2\", \"MEDIAN\"]\n",
    "\n",
    "f = facet()"
   ]
  },
  {
   "attachments": {},
   "cell_type": "markdown",
   "metadata": {},
   "source": [
    "## Second Step import EEG Data"
   ]
  },
  {
   "cell_type": "code",
   "execution_count": null,
   "metadata": {},
   "outputs": [],
   "source": [
    "f.import_eeg(\n",
    "    eegDataSet_filepath,\n",
    "    artifact_to_trigger_offset=artifact_to_trigger_offset_seconds,\n",
    "    upsampling_factor=upsampling_factor,\n",
    "    bads=unwanted_bad_channels,\n",
    ")\n",
    "f.plot_eeg(title=\"after import\", start=29)"
   ]
  },
  {
   "attachments": {},
   "cell_type": "markdown",
   "metadata": {},
   "source": [
    "## Third Step Preprocessing"
   ]
  },
  {
   "cell_type": "code",
   "execution_count": null,
   "metadata": {},
   "outputs": [],
   "source": [
    "f.get_eeg().mne_raw.crop(0, 162)  # Crop because the edf has bad data samples at the end\n",
    "f.pre_processing()"
   ]
  },
  {
   "attachments": {},
   "cell_type": "markdown",
   "metadata": {},
   "source": [
    "## Fourth Step find triggers"
   ]
  },
  {
   "cell_type": "code",
   "execution_count": null,
   "metadata": {},
   "outputs": [],
   "source": [
    "f.find_triggers(regex_trigger_annotation_filter)  # Using Niazys data\n",
    "f.align_triggers(0)\n",
    "f.get_analysis().print_analytics()"
   ]
  },
  {
   "attachments": {},
   "cell_type": "markdown",
   "metadata": {},
   "source": [
    "## Fourth step apply AAS"
   ]
  },
  {
   "cell_type": "code",
   "execution_count": null,
   "metadata": {},
   "outputs": [],
   "source": [
    "f.calc_matrix_aas(window_size=window_size, rel_window_position=relative_window_position)"
   ]
  },
  {
   "attachments": {},
   "cell_type": "markdown",
   "metadata": {},
   "source": [
    "## Fifth step Remove Artifacts"
   ]
  },
  {
   "cell_type": "code",
   "execution_count": null,
   "metadata": {},
   "outputs": [],
   "source": [
    "f.remove_artifacts()"
   ]
  },
  {
   "cell_type": "markdown",
   "metadata": {},
   "source": [
    "## Sixth step Post-Processing"
   ]
  },
  {
   "cell_type": "code",
   "execution_count": null,
   "metadata": {},
   "outputs": [],
   "source": [
    "f.post_processing()"
   ]
  },
  {
   "attachments": {},
   "cell_type": "markdown",
   "metadata": {},
   "source": [
    "## Seventh display the processed eeg data"
   ]
  },
  {
   "cell_type": "code",
   "execution_count": null,
   "metadata": {},
   "outputs": [],
   "source": [
    "f.plot_eeg(title=\"after lowpass\", start=29)"
   ]
  },
  {
   "cell_type": "markdown",
   "metadata": {},
   "source": [
    "## Eighth Evaluate Results"
   ]
  },
  {
   "cell_type": "code",
   "execution_count": null,
   "metadata": {},
   "outputs": [],
   "source": [
    "results_numpy_matrix= f.evaluate(f.get_eeg(), name=\"numpy_matrix\", measures = evaluation_measures)\n",
    "# apply moosmann\n",
    "f.import_eeg(\n",
    "    eegDataSet_filepath,\n",
    "    artifact_to_trigger_offset=artifact_to_trigger_offset_seconds,\n",
    "    bads=unwanted_bad_channels,\n",
    ")\n",
    "f.get_eeg().mne_raw.crop(0, 162)  # Crop because the edf has bad data samples at the end\n",
    "f.pre_processing()\n",
    "f.find_triggers(regex_trigger_event_filter)\n",
    "f.align_triggers(0)\n",
    "f.calc_matrix_motion(\n",
    "    file_path=motiondata_moosmann_filepath, threshold=moosmann_motion_threshold\n",
    ")\n",
    "f.remove_artifacts()\n",
    "f.post_processing()\n",
    "results_moosmann = f.evaluate(f.get_eeg(), name=\"Moosmann\", measures = evaluation_measures)\n",
    "\n",
    "f.plot([results_numpy_matrix, results_moosmann], plot_measures=evaluation_measures)\n",
    "\n",
    "f.export_eeg(event_id=event_id_description_pairs, path=export_bids_path, fmt=\"bids\")"
   ]
  }
 ],
 "metadata": {
  "kernelspec": {
   "display_name": ".venv",
   "language": "python",
   "name": "python3"
  },
  "language_info": {
   "codemirror_mode": {
    "name": "ipython",
    "version": 3
   },
   "file_extension": ".py",
   "mimetype": "text/x-python",
   "name": "python",
   "nbconvert_exporter": "python",
   "pygments_lexer": "ipython3",
   "version": "3.11.4"
  },
  "orig_nbformat": 4
 },
 "nbformat": 4,
 "nbformat_minor": 2
}
