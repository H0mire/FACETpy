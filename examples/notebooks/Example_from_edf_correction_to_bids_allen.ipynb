{
 "cells": [
  {
   "attachments": {},
   "cell_type": "markdown",
   "metadata": {},
   "source": [
    "# Averaged Artifact Substraction with EEG Data\n",
    "\n",
    "## First step prepare Jupyter Notebook\n"
   ]
  },
  {
   "cell_type": "code",
   "execution_count": null,
   "metadata": {},
   "outputs": [],
   "source": [
    "import os\n",
    "from facet.facet import facet\n",
    "from loguru import logger\n",
    "import sys\n",
    "\n",
    "os.getcwd()\n",
    "os.chdir(os.path.dirname(os.path.abspath(\"__file__\")))\n",
    "\n",
    "eegDataSet_filepath = \"NiazyFMRI.edf\"\n",
    "motiondata_moosmann_filepath = \"headmotiondata.tsv\"\n",
    "export_bids_path = \"./bids_dir\"\n",
    "\n",
    "# configure logging\n",
    "logger.remove()\n",
    "logger.add(sys.stderr, level=\"INFO\")\n",
    "logger.add(\"facet.log\", level=\"DEBUG\")\n",
    "\n",
    "# defining important parameters\n",
    "window_size = 30  # defines the window size for averaging\n",
    "upsampling_factor = 10  # defines the resampling factor\n",
    "# defines the artifact position in seconds relative to the triggermark.\n",
    "artifact_to_trigger_offset_seconds = -0.005\n",
    "# defines the relative position of the averaging window over the epochs.\n",
    "relative_window_position = -0.5\n",
    "# For exporting as bids. It defines the event id and its description.\n",
    "event_id_description_pairs = {\"trigger\": 1}\n",
    "# r'\\btrigger\\b' # Annotations with the description 'trigger' are considered as triggers, declard for find triggers after reimporting from bids\n",
    "regex_trigger_annotation_filter = r\"\\b1\\b\"\n",
    "# Events with the value 1 are considered as triggers, declared for edf stim channel\n",
    "regex_trigger_event_filter = r\"\\b1\\b\"\n",
    "# Channels with these names are considered as bad channels and not considered in the processing\n",
    "unwanted_bad_channels = [\"EKG\", \"EMG\", \"EOG\", \"ECG\"]\n",
    "# Measures that must be calculated and used for evaluation.\n",
    "evaluation_measures = [\"SNR\", \"RMS\", \"RMS2\", \"MEDIAN\"]\n",
    "\n",
    "f = facet()"
   ]
  },
  {
   "attachments": {},
   "cell_type": "markdown",
   "metadata": {},
   "source": [
    "## Second Step import EEG Data\n"
   ]
  },
  {
   "cell_type": "code",
   "execution_count": null,
   "metadata": {},
   "outputs": [],
   "source": [
    "f.import_EEG(\n",
    "    eegDataSet_filepath,\n",
    "    artifact_to_trigger_offset=artifact_to_trigger_offset_seconds,\n",
    "    upsampling_factor=upsampling_factor,\n",
    "    bads=unwanted_bad_channels,\n",
    ")\n",
    "\n",
    "# Uncomment if you wanna reload as bids. Pro: Annotations will be loaded for better visualization. Cons: Somehow the SNR has a lower value.\n",
    "\n",
    "# f.export_EEG(path=\"./export\",fmt=\"bids\", event_id=event_id_description_pairs)\n",
    "\n",
    "# f.import_EEG(path=\"./export\",fmt=\"bids\", artifact_to_trigger_offset=artifact_to_trigger_offset_seconds, bads=unwanted_bad_channels)\n",
    "\n",
    "f.plot_EEG(title=\"after import\")"
   ]
  },
  {
   "attachments": {},
   "cell_type": "markdown",
   "metadata": {},
   "source": [
    "## Third Step Preprocessing\n"
   ]
  },
  {
   "cell_type": "code",
   "execution_count": null,
   "metadata": {},
   "outputs": [],
   "source": [
    "# cropping the data for the niazy dataset, because the edf has bad data at the end\n",
    "f.get_EEG().mne_raw.crop(0, 162)\n",
    "f.pre_processing()"
   ]
  },
  {
   "attachments": {},
   "cell_type": "markdown",
   "metadata": {},
   "source": [
    "## Fourth Step find triggers\n"
   ]
  },
  {
   "cell_type": "code",
   "execution_count": null,
   "metadata": {},
   "outputs": [],
   "source": [
    "f.find_triggers(regex_trigger_annotation_filter)  # Using Niazys data\n",
    "f.align_triggers(0)  # Aligning the triggers to the first trigger\n",
    "f.get_analysis().print_analytics()"
   ]
  },
  {
   "attachments": {},
   "cell_type": "markdown",
   "metadata": {},
   "source": [
    "## Fourth step apply AAS\n"
   ]
  },
  {
   "cell_type": "code",
   "execution_count": null,
   "metadata": {},
   "outputs": [],
   "source": [
    "f.calc_matrix_AAS(window_size=window_size, rel_window_position=relative_window_position)"
   ]
  },
  {
   "attachments": {},
   "cell_type": "markdown",
   "metadata": {},
   "source": [
    "## Fifth step Remove Artifacts\n"
   ]
  },
  {
   "cell_type": "code",
   "execution_count": null,
   "metadata": {},
   "outputs": [],
   "source": [
    "f.remove_artifacts()"
   ]
  },
  {
   "cell_type": "markdown",
   "metadata": {},
   "source": [
    "## Sixth step Post-Processing\n"
   ]
  },
  {
   "cell_type": "code",
   "execution_count": null,
   "metadata": {},
   "outputs": [],
   "source": [
    "f.post_processing()"
   ]
  },
  {
   "attachments": {},
   "cell_type": "markdown",
   "metadata": {},
   "source": [
    "## Seventh display the processed eeg data\n"
   ]
  },
  {
   "cell_type": "code",
   "execution_count": null,
   "metadata": {},
   "outputs": [],
   "source": [
    "f.plot_EEG(title=\"after lowpass\")"
   ]
  },
  {
   "cell_type": "markdown",
   "metadata": {},
   "source": [
    "## Eighth Evaluate Results\n"
   ]
  },
  {
   "cell_type": "code",
   "execution_count": null,
   "metadata": {},
   "outputs": [],
   "source": [
    "eeg_python = f.get_EEG()\n",
    "# Matrix will result in >1.0 RMS2 because of python mne inaccuracies\n",
    "f.add_to_evaluate(eeg_python, name=\"numpy_matrix\")\n",
    "logger.info(f.evaluate(measures=evaluation_measures))\n",
    "f.export_EEG(event_id=event_id_description_pairs, path=export_bids_path, fmt=\"bids\")"
   ]
  }
 ],
 "metadata": {
  "kernelspec": {
   "display_name": ".venv",
   "language": "python",
   "name": "python3"
  },
  "language_info": {
   "codemirror_mode": {
    "name": "ipython",
    "version": 3
   },
   "file_extension": ".py",
   "mimetype": "text/x-python",
   "name": "python",
   "nbconvert_exporter": "python",
   "pygments_lexer": "ipython3",
   "version": "3.11.5"
  },
  "orig_nbformat": 4
 },
 "nbformat": 4,
 "nbformat_minor": 2
}
