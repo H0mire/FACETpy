{
 "cells": [
  {
   "attachments": {},
   "cell_type": "markdown",
   "metadata": {},
   "source": [
    "# Averaged Artifact Substraction with EEG Data\n",
    "## First step prepare Jupyter Notebook"
   ]
  },
  {
   "cell_type": "code",
   "execution_count": null,
   "metadata": {},
   "outputs": [],
   "source": [
    "import os\n",
    "from facet.facet import facet\n",
    "from loguru import logger\n",
    "import sys\n",
    "\n",
    "bids_path = \"F:\\EEG Datasets\\openneuro\\FMRIWITHMOTION\"\n",
    "export_bids_path = bids_path\n",
    "\n",
    "# configure logger\n",
    "logger.remove()\n",
    "logger.add(sys.stderr, level=\"DEBUG\")\n",
    "logger.add(\"facet.log\", level=\"DEBUG\")\n",
    "\n",
    "window_size = 30\n",
    "upsampling_factor = 1\n",
    "artifact_to_trigger_offset_in_seconds = -0.038\n",
    "relative_window_position = -0.5\n",
    "moosmann_motion_threshold = 0.8\n",
    "event_id_description_pairs = {\"trigger\": 1}\n",
    "regex_trigger_annotation_filter = r\"\\bResponse\\b\"  # Annotations with the description 'trigger' are considered as triggers\n",
    "unwanted_bad_channels = [\n",
    "    \"EKG\",\n",
    "    \"EMG\",\n",
    "    \"EOG\",\n",
    "    \"ECG\",\n",
    "]  # Channels with these names are considered as bad channels and not considered in the processing\n",
    "evaluation_measures = [\"SNR\", \"RMS\", \"RMS2\", \"MEDIAN\"]\n",
    "\n",
    "f = facet()"
   ]
  },
  {
   "attachments": {},
   "cell_type": "markdown",
   "metadata": {},
   "source": [
    "## Second Step import EEG Data"
   ]
  },
  {
   "cell_type": "code",
   "execution_count": null,
   "metadata": {},
   "outputs": [],
   "source": [
    "f.import_eeg(\n",
    "    path=bids_path,\n",
    "    fmt=\"bids\",\n",
    "    upsampling_factor=upsampling_factor,\n",
    "    artifact_to_trigger_offset=artifact_to_trigger_offset_in_seconds,\n",
    "    bads=[\"EKG\", \"EMG\", \"EOG\", \"ECG\"],\n",
    "    subject=\"xp101\",\n",
    "    session=None,\n",
    "    task=\"eegfmriNF\",\n",
    ")\n",
    "f.plot_eeg(title=\"after import\")"
   ]
  },
  {
   "attachments": {},
   "cell_type": "markdown",
   "metadata": {},
   "source": [
    "## Third Step Preprocessing"
   ]
  },
  {
   "cell_type": "code",
   "execution_count": null,
   "metadata": {},
   "outputs": [],
   "source": [
    "f.pre_processing()"
   ]
  },
  {
   "attachments": {},
   "cell_type": "markdown",
   "metadata": {},
   "source": [
    "## Fourth Step find triggers"
   ]
  },
  {
   "cell_type": "code",
   "execution_count": null,
   "metadata": {},
   "outputs": [],
   "source": [
    "f.find_triggers(regex_trigger_annotation_filter)  # Using Niazys data\n",
    "f.find_missing_triggers()\n",
    "f.align_triggers(0)"
   ]
  },
  {
   "attachments": {},
   "cell_type": "markdown",
   "metadata": {},
   "source": [
    "## Fourth step apply AAS"
   ]
  },
  {
   "cell_type": "code",
   "execution_count": null,
   "metadata": {},
   "outputs": [],
   "source": [
    "f.calc_matrix_aas()"
   ]
  },
  {
   "attachments": {},
   "cell_type": "markdown",
   "metadata": {},
   "source": [
    "## Fifth step Remove Artifacts"
   ]
  },
  {
   "cell_type": "code",
   "execution_count": null,
   "metadata": {},
   "outputs": [],
   "source": [
    "f.remove_artifacts(plot_artifacts=True)"
   ]
  },
  {
   "cell_type": "markdown",
   "metadata": {},
   "source": [
    "## Sixth step Post-Processing"
   ]
  },
  {
   "cell_type": "code",
   "execution_count": null,
   "metadata": {},
   "outputs": [],
   "source": [
    "f.post_processing()"
   ]
  },
  {
   "attachments": {},
   "cell_type": "markdown",
   "metadata": {},
   "source": [
    "## Seventh display the processed eeg data"
   ]
  },
  {
   "cell_type": "code",
   "execution_count": null,
   "metadata": {},
   "outputs": [],
   "source": [
    "f.plot_eeg(title=\"after lowpass\", start=29)"
   ]
  },
  {
   "cell_type": "markdown",
   "metadata": {},
   "source": [
    "## Eighth Evaluate Results and compare with other Methods"
   ]
  },
  {
   "cell_type": "code",
   "execution_count": null,
   "metadata": {},
   "outputs": [],
   "source": [
    "eeg_python = f.get_eeg()\n",
    "# Matrix will result in >1.0 RMS2 because of python mne inaccuracies\n",
    "f.add_to_evaluate(eeg_python, name=\"numpy_matrix\")\n",
    "\n",
    "# moosmann\n",
    "f.import_eeg(\n",
    "    path=bids_path,\n",
    "    fmt=\"bids\",\n",
    "    artifact_to_trigger_offset=artifact_to_trigger_offset_in_seconds,\n",
    "    upsampling_factor=upsampling_factor,\n",
    "    bads=unwanted_bad_channels,\n",
    "    subject=\"xp101\",\n",
    "    session=None,\n",
    "    task=\"eegfmriNF\",\n",
    ")\n",
    "#print current path\n",
    "print(os.getcwd())\n",
    "f.pre_processing()\n",
    "f.find_triggers(regex_trigger_annotation_filter)\n",
    "f.find_missing_triggers()\n",
    "f.align_triggers(0)\n",
    "f.calc_matrix_motion(\n",
    "    file_path=\"../datasets/headmotiondata_209s.tsv\", threshold=moosmann_motion_threshold\n",
    ")\n",
    "f.remove_artifacts()\n",
    "f.post_processing()\n",
    "f.add_to_evaluate(f.get_eeg(), name=\"Moosmann\")\n",
    "\n",
    "results = f.evaluate(plot=True, measures=[\"SNR\", \"RMS\", \"RMS2\", \"MEDIAN\"])\n",
    "logger.info(results)\n",
    "\n",
    "# f.export_eeg(fmt=\"bids\", event_id=event_id_description_pairs, path=export_bids_path)"
   ]
  }
 ],
 "metadata": {
  "kernelspec": {
   "display_name": ".venv",
   "language": "python",
   "name": "python3"
  },
  "language_info": {
   "codemirror_mode": {
    "name": "ipython",
    "version": 3
   },
   "file_extension": ".py",
   "mimetype": "text/x-python",
   "name": "python",
   "nbconvert_exporter": "python",
   "pygments_lexer": "ipython3",
   "version": "3.11.4"
  },
  "orig_nbformat": 4
 },
 "nbformat": 4,
 "nbformat_minor": 2
}
